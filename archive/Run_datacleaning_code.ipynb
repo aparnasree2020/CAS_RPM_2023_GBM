{
  "nbformat": 4,
  "nbformat_minor": 0,
  "metadata": {
    "colab": {
      "provenance": [],
      "authorship_tag": "ABX9TyMrWKpqhRhZy3Lz1JSnSWWu",
      "include_colab_link": true
    },
    "kernelspec": {
      "name": "ir",
      "display_name": "R"
    },
    "language_info": {
      "name": "R"
    }
  },
  "cells": [
    {
      "cell_type": "markdown",
      "metadata": {
        "id": "view-in-github",
        "colab_type": "text"
      },
      "source": [
        "<a href=\"https://colab.research.google.com/github/aparnasree2020/sampledata_casws/blob/main/Run_datacleaning_code.ipynb\" target=\"_parent\"><img src=\"https://colab.research.google.com/assets/colab-badge.svg\" alt=\"Open In Colab\"/></a>"
      ]
    },
    {
      "cell_type": "markdown",
      "source": [
        "# Install packages"
      ],
      "metadata": {
        "id": "9xiri0H-FVwo"
      }
    },
    {
      "cell_type": "code",
      "source": [
        "# Comment after installation\n",
        "#install.packages('gbm')\n",
        "#install.packages('Hmisc')\n"
      ],
      "metadata": {
        "id": "iWqpTZ-pFVNN"
      },
      "execution_count": null,
      "outputs": []
    },
    {
      "cell_type": "markdown",
      "source": [
        "# Load Libraries"
      ],
      "metadata": {
        "id": "sY33DK77FeAP"
      }
    },
    {
      "cell_type": "code",
      "source": [
        "library(tidyverse)\n",
        "library(gbm)\n",
        "\n",
        "#library(dplyr)\n",
        "#require(xgboost)\n",
        "#library(measures)"
      ],
      "metadata": {
        "id": "kNM2aPBWW_1h"
      },
      "execution_count": null,
      "outputs": []
    },
    {
      "cell_type": "markdown",
      "source": [
        "# Load CSV datafile"
      ],
      "metadata": {
        "id": "Jmtw_z4vFi5_"
      }
    },
    {
      "cell_type": "code",
      "source": [
        "csv_filename = 'gbm_data_rpm_2023_100K_v2.csv'\n",
        "df <- read.csv(file =csv_filename, header = TRUE )\n",
        "\n"
      ],
      "metadata": {
        "id": "hIWTJj6udY-K"
      },
      "execution_count": null,
      "outputs": []
    },
    {
      "cell_type": "markdown",
      "source": [
        "# Preprocessing data \n",
        "\n",
        "*   Dropping variables that could cause data leakage\n",
        "*   Dropping variables that connects records to states to not expand the design matrix\n",
        "*   Dropping variables that has no change\n",
        "\n",
        "\n",
        "\n",
        " "
      ],
      "metadata": {
        "id": "p_DP-vP8GQom"
      }
    },
    {
      "cell_type": "code",
      "source": [
        "drop <- c(\"X\",\"limit_uim\",\"incurred_pd_cap\",\"incurred_pd_raw\",\"ee_bi\",\"ee_med\",\"ee_pip\",\"ee_um\",\"ee_uim\",\"ee_comp\",\"ee_tot\",\"claim_count_bi\",\"claim_count_med\",\"claim_count_pip\",\"claim_count_um\",\"claim_count_uim\",\"claim_count_coll\",\"claim_count_comp\",\"multi_policy_discount\")\n",
        "drop_flags <- c(\"OH_flag\",\"IL_flag\",\"VA_flag\",\"GA_flag\",\"WI_flag\",\"IN_flag\",\"MI_flag\",\"TN_flag\",\"KY_flag\",\"PA_flag\",\"SC_flag\",\"MN_flag\",\"IA_flag\",\"NH_flag\",\"AZ_flag\",\"TX_flag\",\"RI_flag\",\"ME_flag\",\"CT_flag\",\"VT_flag\",\"veh_use_personal\",\n",
        "\"veh_use_commute\",\n",
        "\"veh_use_farm\",\n",
        "\"veh_use_business\",\n",
        "\"driver_male\",\n",
        "\"driver_married\",\n",
        "\"branded_title_loss\",\n",
        "\"severe_accident\",\n",
        "\"total_loss\",\n",
        "\"severe_frame_damage\",\n",
        "\"airbag_deployed\",\n",
        "\"salvage_auction\",\n",
        "\"other_severe_problem\",\n",
        "\"failed_emissions\",\n",
        "\"failed_safety\",\n",
        "\"nonsevere_accident\",\n",
        "\"damage_disclosure\",\n",
        "\"collision_repair\",\n",
        "\"potential_frame_damage\",\n",
        "\"rollback\",\n",
        "\"severe_problem\",\n",
        "\"branded_title\",\n",
        "\"potential_damage\",\n",
        "\"current_ownership_corp_govt\",\n",
        "\"py_2015\",\n",
        "\"py_2016\",\n",
        "\"py_2017\",\n",
        "\"py_2018\")\n",
        "gbm_data_states = df[,!(names(df) %in% drop)]\n",
        "gbm_data = gbm_data_states[,!(names(gbm_data_states) %in% drop_flags)]\n",
        "\n",
        "# find columns with character values\n",
        "char_cols <- sapply(gbm_data, is.character)\n",
        "# convert \"true\" and \"false\" to 1 and 0 in character columns\n",
        "gbm_data[char_cols] <- lapply(gbm_data[char_cols], function(x) ifelse(x == \"true\", 1, 0))\n",
        "gbm_data$claim_count_pd <- ifelse(gbm_data$claim_count_pd > 0.5, 1, 0)"
      ],
      "metadata": {
        "id": "2VPKfp7kGKSo"
      },
      "execution_count": null,
      "outputs": []
    },
    {
      "cell_type": "code",
      "source": [
        "#write.csv(gbm_data, \"Cleaned_data.csv\", row.names=FALSE)"
      ],
      "metadata": {
        "id": "ZBxJFJL3OGMK"
      },
      "execution_count": null,
      "outputs": []
    },
    {
      "cell_type": "markdown",
      "source": [
        "## Split data into train and test at 80/20 split"
      ],
      "metadata": {
        "id": "-WFKMtdNGqUP"
      }
    },
    {
      "cell_type": "code",
      "source": [
        "size <- floor(0.80 * nrow(gbm_data))\n",
        "set.seed(42)\n",
        "train_idx <- sample(seq_len(nrow(gbm_data)), size = size)\n",
        "train <- gbm_data[train_idx,]\n",
        "test <- gbm_data[-train_idx,]\n",
        "\n",
        "x_train <- train[, !names(train) %in% \"claim_count_pd\"]\n",
        "y_train <- train$claim_count_pd\n",
        "x_test <- test[, !names(test) %in% \"claim_count_pd\"]\n",
        "y_test <- test$claim_count_pd"
      ],
      "metadata": {
        "id": "Koc4vGrPG5pw"
      },
      "execution_count": null,
      "outputs": []
    },
    {
      "cell_type": "code",
      "source": [
        "write.csv(train, \"train_clean.csv\", row.names=FALSE)\n",
        "write.csv(train, \"test_clean.csv\", row.names=FALSE)"
      ],
      "metadata": {
        "id": "YYg6KbIeOSly"
      },
      "execution_count": null,
      "outputs": []
    },
    {
      "cell_type": "markdown",
      "source": [
        "# Fit GBM model and predict output for test data"
      ],
      "metadata": {
        "id": "LtV6qMTDG9tW"
      }
    },
    {
      "cell_type": "code",
      "source": [
        "# Fit a Gradient Boosting Machine\n",
        "fit <- gbm(y_train ~ ., data = x_train, distribution = \"gaussian\", n.trees = 100, interaction.depth = 2)\n",
        "\n",
        "pred_y_test = predict.gbm(fit, x_test)\n",
        "pred_y_test_bin = ifelse(pred_y_test > 0.5, 1, 0)\n"
      ],
      "metadata": {
        "colab": {
          "base_uri": "https://localhost:8080/"
        },
        "id": "eJjKJGcnHAiO",
        "outputId": "db44f8b5-bd4a-4dd7-bd5d-cbe3ea6ba083"
      },
      "execution_count": null,
      "outputs": [
        {
          "output_type": "stream",
          "name": "stderr",
          "text": [
            "Warning message in gbm.fit(x = x, y = y, offset = offset, distribution = distribution, :\n",
            "“variable 32: veh_use_personal has no variation.”\n",
            "Warning message in gbm.fit(x = x, y = y, offset = offset, distribution = distribution, :\n",
            "“variable 33: veh_use_commute has no variation.”\n",
            "Warning message in gbm.fit(x = x, y = y, offset = offset, distribution = distribution, :\n",
            "“variable 34: veh_use_farm has no variation.”\n",
            "Warning message in gbm.fit(x = x, y = y, offset = offset, distribution = distribution, :\n",
            "“variable 35: veh_use_business has no variation.”\n",
            "Warning message in gbm.fit(x = x, y = y, offset = offset, distribution = distribution, :\n",
            "“variable 36: driver_male has no variation.”\n",
            "Warning message in gbm.fit(x = x, y = y, offset = offset, distribution = distribution, :\n",
            "“variable 37: driver_married has no variation.”\n",
            "Warning message in gbm.fit(x = x, y = y, offset = offset, distribution = distribution, :\n",
            "“variable 38: branded_title_loss has no variation.”\n",
            "Warning message in gbm.fit(x = x, y = y, offset = offset, distribution = distribution, :\n",
            "“variable 39: severe_accident has no variation.”\n",
            "Warning message in gbm.fit(x = x, y = y, offset = offset, distribution = distribution, :\n",
            "“variable 40: total_loss has no variation.”\n",
            "Warning message in gbm.fit(x = x, y = y, offset = offset, distribution = distribution, :\n",
            "“variable 41: severe_frame_damage has no variation.”\n",
            "Warning message in gbm.fit(x = x, y = y, offset = offset, distribution = distribution, :\n",
            "“variable 42: airbag_deployed has no variation.”\n",
            "Warning message in gbm.fit(x = x, y = y, offset = offset, distribution = distribution, :\n",
            "“variable 43: salvage_auction has no variation.”\n",
            "Warning message in gbm.fit(x = x, y = y, offset = offset, distribution = distribution, :\n",
            "“variable 44: other_severe_problem has no variation.”\n",
            "Warning message in gbm.fit(x = x, y = y, offset = offset, distribution = distribution, :\n",
            "“variable 45: failed_emissions has no variation.”\n",
            "Warning message in gbm.fit(x = x, y = y, offset = offset, distribution = distribution, :\n",
            "“variable 46: failed_safety has no variation.”\n",
            "Warning message in gbm.fit(x = x, y = y, offset = offset, distribution = distribution, :\n",
            "“variable 47: nonsevere_accident has no variation.”\n",
            "Warning message in gbm.fit(x = x, y = y, offset = offset, distribution = distribution, :\n",
            "“variable 48: damage_disclosure has no variation.”\n",
            "Warning message in gbm.fit(x = x, y = y, offset = offset, distribution = distribution, :\n",
            "“variable 49: collision_repair has no variation.”\n",
            "Warning message in gbm.fit(x = x, y = y, offset = offset, distribution = distribution, :\n",
            "“variable 50: potential_frame_damage has no variation.”\n",
            "Warning message in gbm.fit(x = x, y = y, offset = offset, distribution = distribution, :\n",
            "“variable 51: rollback has no variation.”\n",
            "Warning message in gbm.fit(x = x, y = y, offset = offset, distribution = distribution, :\n",
            "“variable 52: severe_problem has no variation.”\n",
            "Warning message in gbm.fit(x = x, y = y, offset = offset, distribution = distribution, :\n",
            "“variable 53: branded_title has no variation.”\n",
            "Warning message in gbm.fit(x = x, y = y, offset = offset, distribution = distribution, :\n",
            "“variable 54: potential_damage has no variation.”\n",
            "Warning message in gbm.fit(x = x, y = y, offset = offset, distribution = distribution, :\n",
            "“variable 55: current_ownership_corp_govt has no variation.”\n",
            "Warning message in gbm.fit(x = x, y = y, offset = offset, distribution = distribution, :\n",
            "“variable 60: py_2015 has no variation.”\n",
            "Warning message in gbm.fit(x = x, y = y, offset = offset, distribution = distribution, :\n",
            "“variable 61: py_2016 has no variation.”\n",
            "Warning message in gbm.fit(x = x, y = y, offset = offset, distribution = distribution, :\n",
            "“variable 62: py_2017 has no variation.”\n",
            "Warning message in gbm.fit(x = x, y = y, offset = offset, distribution = distribution, :\n",
            "“variable 63: py_2018 has no variation.”\n",
            "Using 100 trees...\n",
            "\n",
            "\n"
          ]
        }
      ]
    },
    {
      "cell_type": "code",
      "source": [
        "dataout <- data.frame(pred_y_test_bin, y_test)\n",
        "write.csv(dataout, \"GBM_initial.csv\", row.names=FALSE)"
      ],
      "metadata": {
        "id": "bM5-ZvzeJMMY"
      },
      "execution_count": null,
      "outputs": []
    },
    {
      "cell_type": "markdown",
      "source": [
        "# End"
      ],
      "metadata": {
        "id": "4qhNceQmGEl_"
      }
    },
    {
      "cell_type": "markdown",
      "source": [
        "Unused code below"
      ],
      "metadata": {
        "id": "4dsxvGCJGHoD"
      }
    },
    {
      "cell_type": "code",
      "source": [
        "#library(Hmisc)\n",
        "#hist.data.frame(gbm_data$claim_count_pd)"
      ],
      "metadata": {
        "id": "sHS5X8-4dqNi"
      },
      "execution_count": null,
      "outputs": []
    },
    {
      "cell_type": "code",
      "source": [],
      "metadata": {
        "id": "ylUlEuysKZb8"
      },
      "execution_count": null,
      "outputs": []
    }
  ]
}