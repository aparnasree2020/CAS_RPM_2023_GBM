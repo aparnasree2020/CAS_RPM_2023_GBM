{
  "nbformat": 4,
  "nbformat_minor": 0,
  "metadata": {
    "colab": {
      "provenance": [],
      "authorship_tag": "ABX9TyNTxfZfLgogNsZLevWQadVT",
      "include_colab_link": true
    },
    "kernelspec": {
      "name": "ir",
      "display_name": "R"
    },
    "language_info": {
      "name": "R"
    }
  },
  "cells": [
    {
      "cell_type": "markdown",
      "metadata": {
        "id": "view-in-github",
        "colab_type": "text"
      },
      "source": [
        "<a href=\"https://colab.research.google.com/github/aparnasree2020/sampledata_casws/blob/main/Run_XGboost_code.ipynb\" target=\"_parent\"><img src=\"https://colab.research.google.com/assets/colab-badge.svg\" alt=\"Open In Colab\"/></a>"
      ]
    },
    {
      "cell_type": "markdown",
      "source": [
        "# Install packages"
      ],
      "metadata": {
        "id": "9xiri0H-FVwo"
      }
    },
    {
      "cell_type": "code",
      "source": [
        "# Comment after installation\n",
        "#install.packages('gbm')\n",
        "#install.packages('Hmisc')\n"
      ],
      "metadata": {
        "id": "iWqpTZ-pFVNN"
      },
      "execution_count": 1,
      "outputs": []
    },
    {
      "cell_type": "markdown",
      "source": [
        "# Load Libraries"
      ],
      "metadata": {
        "id": "sY33DK77FeAP"
      }
    },
    {
      "cell_type": "code",
      "source": [
        "#library(dplyr)\n",
        "library(tidyverse)\n",
        "#require(xgboost)\n",
        "library(gbm)\n",
        "#library(measures)"
      ],
      "metadata": {
        "id": "kNM2aPBWW_1h",
        "colab": {
          "base_uri": "https://localhost:8080/",
          "height": 366
        },
        "outputId": "1a1c768e-5701-4cd5-85e0-a81ea223c9b4"
      },
      "execution_count": 2,
      "outputs": [
        {
          "output_type": "stream",
          "name": "stderr",
          "text": [
            "Warning message in system(\"timedatectl\", intern = TRUE):\n",
            "“running command 'timedatectl' had status 1”\n",
            "── \u001b[1mAttaching packages\u001b[22m ─────────────────────────────────────── tidyverse 1.3.1 ──\n",
            "\n",
            "\u001b[32m✔\u001b[39m \u001b[34mggplot2\u001b[39m 3.4.1     \u001b[32m✔\u001b[39m \u001b[34mpurrr  \u001b[39m 1.0.1\n",
            "\u001b[32m✔\u001b[39m \u001b[34mtibble \u001b[39m 3.1.8     \u001b[32m✔\u001b[39m \u001b[34mdplyr  \u001b[39m 1.1.0\n",
            "\u001b[32m✔\u001b[39m \u001b[34mtidyr  \u001b[39m 1.3.0     \u001b[32m✔\u001b[39m \u001b[34mstringr\u001b[39m 1.4.1\n",
            "\u001b[32m✔\u001b[39m \u001b[34mreadr  \u001b[39m 2.1.4     \u001b[32m✔\u001b[39m \u001b[34mforcats\u001b[39m 1.0.0\n",
            "\n",
            "── \u001b[1mConflicts\u001b[22m ────────────────────────────────────────── tidyverse_conflicts() ──\n",
            "\u001b[31m✖\u001b[39m \u001b[34mdplyr\u001b[39m::\u001b[32mfilter()\u001b[39m masks \u001b[34mstats\u001b[39m::filter()\n",
            "\u001b[31m✖\u001b[39m \u001b[34mdplyr\u001b[39m::\u001b[32mlag()\u001b[39m    masks \u001b[34mstats\u001b[39m::lag()\n",
            "\n"
          ]
        },
        {
          "output_type": "error",
          "ename": "ERROR",
          "evalue": "ignored",
          "traceback": [
            "Error in library(gbm): there is no package called ‘gbm’\nTraceback:\n",
            "1. library(gbm)"
          ]
        }
      ]
    },
    {
      "cell_type": "markdown",
      "source": [
        "# Load CSV datafile"
      ],
      "metadata": {
        "id": "Jmtw_z4vFi5_"
      }
    },
    {
      "cell_type": "code",
      "source": [
        "myfile <- \"https://raw.github.com/aparnasree2020/sampledata_casws/master/Cleaned_data.csv\"\n",
        "#csv_filename = 'gbm_data_rpm_2023_100K_v2.csv'\n",
        "gbm_data <- read.csv(file =myfile, header = TRUE )\n",
        "\n"
      ],
      "metadata": {
        "id": "hIWTJj6udY-K"
      },
      "execution_count": null,
      "outputs": []
    },
    {
      "cell_type": "markdown",
      "source": [
        "## Split data into train and test at 80/20 split"
      ],
      "metadata": {
        "id": "-WFKMtdNGqUP"
      }
    },
    {
      "cell_type": "code",
      "source": [
        "size <- floor(0.80 * nrow(gbm_data))\n",
        "set.seed(42)\n",
        "train_idx <- sample(seq_len(nrow(gbm_data)), size = size)\n",
        "train <- gbm_data[train_idx,]\n",
        "test <- gbm_data[-train_idx,]\n",
        "\n",
        "x_train <- train[, !names(train) %in% \"claim_count_pd\"]\n",
        "y_train <- train$claim_count_pd\n",
        "x_test <- test[, !names(test) %in% \"claim_count_pd\"]\n",
        "y_test <- test$claim_count_pd"
      ],
      "metadata": {
        "id": "Koc4vGrPG5pw"
      },
      "execution_count": null,
      "outputs": []
    },
    {
      "cell_type": "markdown",
      "source": [
        "# Fit XGBoost model \n",
        "\n",
        "The hyperparameters used are:\n",
        "\n",
        "*   eta (learning rate): Controls the step-size at which the optimizer makes updates to the weights.\n",
        "*   max_depth: The maximum depth of a tree.\n",
        "* min_child_weight: The minimum weight required for a child to be split.\n",
        "* subsample: The fraction of the training data used in each iteration.\n",
        "* colsample_bytree: The fraction of the columns used in each iteration.\n",
        "* gamma: The minimum loss reduction required to make a split.\n",
        "* alpha: L1 regularization parameter.\n",
        "* lambda: L2 regularization parameter.\n",
        "* nthread: The number of parallel threads used to run XGBoost.\n",
        "* seed: The random seed used to initialize the weights.\n",
        "\n",
        "These hyperparameters can be fine-tuned to achieve the best performance for a particular problem. The values given here are just an example and may need to be adjusted for different datasets."
      ],
      "metadata": {
        "id": "LtV6qMTDG9tW"
      }
    },
    {
      "cell_type": "code",
      "source": [
        "# Train the model\n",
        "bst <- xgboost(data = as.matrix(train_data), label = train_labels, nrounds = 100, objective = \"binary:logistic\",\n",
        "               eta = 0.3,\n",
        "               max_depth = 6,\n",
        "               min_child_weight = 1,\n",
        "               subsample = 0.8,\n",
        "               colsample_bytree = 0.8,\n",
        "               gamma = 0,\n",
        "               alpha = 0,\n",
        "               lambda = 1,\n",
        "               nthread = 4,\n",
        "               seed = 123)\n",
        "\n",
        "\n"
      ],
      "metadata": {
        "id": "eJjKJGcnHAiO"
      },
      "execution_count": null,
      "outputs": []
    },
    {
      "cell_type": "markdown",
      "source": [
        "#predict output for test data"
      ],
      "metadata": {
        "id": "ykumBqHYX1dP"
      }
    },
    {
      "cell_type": "code",
      "source": [
        "# Predict the classes for the test data\n",
        "pred_y_test <- predict(bst, as.matrix(test_data))\n",
        "\n",
        "pred_y_test_bin = ifelse(pred_y_test > 0.5, 1, 0)"
      ],
      "metadata": {
        "id": "VIOtB0xHRgrh"
      },
      "execution_count": null,
      "outputs": []
    },
    {
      "cell_type": "code",
      "source": [
        "dataout <- data.frame(pred_y_test_bin, y_test)\n",
        "write.csv(dataout, \"XGboost_hyperparam.csv\", row.names=FALSE)"
      ],
      "metadata": {
        "id": "bM5-ZvzeJMMY"
      },
      "execution_count": null,
      "outputs": []
    },
    {
      "cell_type": "markdown",
      "source": [
        "# End"
      ],
      "metadata": {
        "id": "4qhNceQmGEl_"
      }
    },
    {
      "cell_type": "markdown",
      "source": [
        "Unused code below"
      ],
      "metadata": {
        "id": "4dsxvGCJGHoD"
      }
    },
    {
      "cell_type": "code",
      "source": [
        "#library(Hmisc)\n",
        "#hist.data.frame(gbm_data$claim_count_pd)"
      ],
      "metadata": {
        "id": "sHS5X8-4dqNi"
      },
      "execution_count": null,
      "outputs": []
    }
  ]
}